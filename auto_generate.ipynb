{
 "cells": [
  {
   "cell_type": "code",
   "execution_count": 1,
   "metadata": {},
   "outputs": [],
   "source": [
    "from music21 import converter, instrument, note, chord, stream\n",
    "import glob\n",
    "import pickle\n",
    "import numpy as np\n",
    "from keras.utils import np_utils\n",
    "from keras.models import Sequential, load_model"
   ]
  },
  {
   "cell_type": "code",
   "execution_count": 2,
   "metadata": {},
   "outputs": [],
   "source": [
    "model = load_model('model.hdf5')"
   ]
  },
  {
   "cell_type": "code",
   "execution_count": 3,
   "metadata": {},
   "outputs": [],
   "source": [
    "notes=[]\n",
    "with open(\"notes\", 'rb') as f:\n",
    "    notes= pickle.load(f)\n"
   ]
  },
  {
   "cell_type": "code",
   "execution_count": 5,
   "metadata": {},
   "outputs": [],
   "source": [
    "pitchnames = sorted(set(notes))\n",
    "ele_to_int = dict( (ele, num) for num, ele in enumerate(pitchnames) )\n",
    "n_vocab = len(set(notes))\n"
   ]
  },
  {
   "cell_type": "code",
   "execution_count": 6,
   "metadata": {},
   "outputs": [],
   "source": [
    "sequence_length = 20\n",
    "network_input = []\n",
    "\n",
    "for i in range(len(notes) - sequence_length):\n",
    "    seq_in = notes[i : i+sequence_length] # contains 100 values\n",
    "    network_input.append([ele_to_int[ch] for ch in seq_in])"
   ]
  },
  {
   "cell_type": "code",
   "execution_count": 7,
   "metadata": {},
   "outputs": [],
   "source": [
    "# Any random start index\n",
    "start = np.random.randint(len(network_input) - 1)\n",
    "\n",
    "# Mapping int_to_ele\n",
    "int_to_ele = dict((num, ele) for num, ele in enumerate(pitchnames))\n",
    "\n",
    "# Initial pattern \n",
    "pattern = network_input[start]\n",
    "prediction_output = []\n",
    "\n",
    "# generate 200 elements\n",
    "for note_index in range(200):\n",
    "    prediction_input = np.reshape(pattern, (1, len(pattern), 1)) # convert into numpy desired shape \n",
    "    prediction_input = prediction_input/float(n_vocab) # normalise\n",
    "    \n",
    "    prediction =  model.predict(prediction_input, verbose=0)\n",
    "    \n",
    "    idx = np.argmax(prediction)\n",
    "    result = int_to_ele[idx]\n",
    "    prediction_output.append(result) \n",
    "    \n",
    "    # Remove the first value, and append the recent value.. \n",
    "    # This way input is moving forward step-by-step with time..\n",
    "    pattern.append(idx)\n",
    "    pattern = pattern[1:]\n",
    "    "
   ]
  },
  {
   "cell_type": "code",
   "execution_count": 8,
   "metadata": {},
   "outputs": [],
   "source": [
    "offset = 0 # Time\n",
    "output_notes = []\n",
    "\n",
    "for pattern in prediction_output:\n",
    "    \n",
    "    # if the pattern is a chord\n",
    "    if ('+' in pattern) or pattern.isdigit():\n",
    "        notes_in_chord = pattern.split('+')\n",
    "        temp_notes = []\n",
    "        for current_note in notes_in_chord:\n",
    "            new_note = note.Note(int(current_note))  # create Note object for each note in the chord\n",
    "            new_note.storedInstrument = instrument.Piano()\n",
    "            temp_notes.append(new_note)\n",
    "            \n",
    "        \n",
    "        new_chord = chord.Chord(temp_notes) # creates the chord() from the list of notes\n",
    "        new_chord.offset = offset\n",
    "        output_notes.append(new_chord)\n",
    "    \n",
    "    else:\n",
    "            # if the pattern is a note\n",
    "        new_note = note.Note(pattern)\n",
    "        new_note.offset = offset\n",
    "        new_note.storedInstrument = instrument.Piano()\n",
    "        output_notes.append(new_note)\n",
    "        \n",
    "    offset += 0.5"
   ]
  },
  {
   "cell_type": "code",
   "execution_count": 9,
   "metadata": {},
   "outputs": [
    {
     "data": {
      "text/plain": [
       "'auto_generated_output.mid'"
      ]
     },
     "execution_count": 9,
     "metadata": {},
     "output_type": "execute_result"
    }
   ],
   "source": [
    "# create a stream object from the generated notes\n",
    "midi_stream = stream.Stream(output_notes)\n",
    "midi_stream.write('midi', fp = \"auto_generated_output.mid\")"
   ]
  },
  {
   "cell_type": "code",
   "execution_count": null,
   "metadata": {},
   "outputs": [],
   "source": []
  }
 ],
 "metadata": {
  "kernelspec": {
   "display_name": "Python 3",
   "language": "python",
   "name": "python3"
  },
  "language_info": {
   "codemirror_mode": {
    "name": "ipython",
    "version": 3
   },
   "file_extension": ".py",
   "mimetype": "text/x-python",
   "name": "python",
   "nbconvert_exporter": "python",
   "pygments_lexer": "ipython3",
   "version": "3.8.5"
  }
 },
 "nbformat": 4,
 "nbformat_minor": 4
}
